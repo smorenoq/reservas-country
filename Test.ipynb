{
 "cells": [
  {
   "cell_type": "code",
   "execution_count": 16,
   "id": "ed5e34b3-6dc0-4c27-af06-eadf1c70719b",
   "metadata": {},
   "outputs": [],
   "source": [
    "from selenium import webdriver\n",
    "from selenium.webdriver.support.ui import WebDriverWait\n",
    "from selenium.webdriver.common.by import By\n",
    "import time"
   ]
  },
  {
   "cell_type": "code",
   "execution_count": 4,
   "id": "cf7fd023-b5c2-4db1-a919-4e516546d514",
   "metadata": {},
   "outputs": [],
   "source": [
    "username = '023340'\n",
    "password = '023340682'"
   ]
  },
  {
   "cell_type": "code",
   "execution_count": 51,
   "id": "597f4e4c-2878-4f5e-b892-7fb48d814754",
   "metadata": {},
   "outputs": [],
   "source": [
    "chrome_options = webdriver.ChromeOptions()\n",
    "# chrome_options.add_argument('--headless')\n",
    "chrome_options.add_argument('--no-sandbox')\n",
    "chrome_options.add_argument('--disable-dev-shm-usage')\n",
    "driver = webdriver.Chrome('chromedriver', options=chrome_options)"
   ]
  },
  {
   "cell_type": "code",
   "execution_count": 52,
   "id": "68f44818-b0ef-4aad-8665-bd4830d02ff1",
   "metadata": {},
   "outputs": [],
   "source": [
    "driver.get('https://amigo.countryclub.com.co/Socios/wfLogin.aspx?ReturnUrl=%2fSocios%2f')\n",
    "\n",
    "# Find the username/email field and send the username to the input field.\n",
    "username = driver.find_element(\"id\", \"Login1_UserName\") \n",
    "username.send_keys(username)\n",
    "\n",
    "# Find the password input field and send the password to the input field.\n",
    "password = driver.find_element(\"id\", \"Login1_Password\") \n",
    "password.send_keys(password)\n",
    "\n",
    "# Click sign in button to login the website.\n",
    "driver.find_element(\"id\", \"Login1_LoginButton\").click()\n",
    "\n",
    "button_reservas = driver.find_element(\"id\", \"ctl00_ContentPlaceHolder1_btnReservasDeportivas\")\n",
    "button_reservas.click()\n",
    "\n",
    "button_turno = driver.find_element(\"id\", \"ctl00_ContentPlaceHolder1_btnTurno10\")\n",
    "button_turno.click()\n",
    "\n",
    "time.sleep(3)\n",
    "\n",
    "button_turno = driver.find_element(\"id\", \"ctl00_ContentPlaceHolder1_btnDiaSiguiente\")\n",
    "button_turno.click()\n",
    "\n",
    "time.sleep(3)\n",
    "\n",
    "button_turno = driver.find_element(\"id\", \"ctl00_ContentPlaceHolder1_btnTurno10\")\n",
    "button_turno.click()\n",
    "\n",
    "time.sleep(2)\n",
    "\n",
    "button_turno = driver.find_element(\"id\", \"ctl00_ContentPlaceHolder1_btnDiaSiguiente\")\n",
    "button_turno.click()\n",
    "\n",
    "time.sleep(2)\n",
    "\n",
    "button_turno = driver.find_element(\"id\", \"ctl00_ContentPlaceHolder1_btnTurno10\")\n",
    "button_turno.click()\n",
    "\n",
    "time.sleep(2)\n",
    "\n",
    "num_cancha = 3\n",
    "button_cancha = driver.find_element(\"id\", f\"ctl00_ContentPlaceHolder1_dlCanchas_ctl0{num_cancha-1}_btnReservar\")\n",
    "button_cancha.click()"
   ]
  },
  {
   "cell_type": "code",
   "execution_count": 48,
   "id": "f2f96123-0865-4236-b148-1ef9b221e689",
   "metadata": {},
   "outputs": [],
   "source": []
  },
  {
   "cell_type": "code",
   "execution_count": null,
   "id": "c1cc2f07-28b2-4907-98eb-3a3e51ebf61c",
   "metadata": {},
   "outputs": [],
   "source": []
  },
  {
   "cell_type": "code",
   "execution_count": 59,
   "id": "ebc51c3c-b146-4ebd-9f49-3f77fe3f8cc7",
   "metadata": {},
   "outputs": [],
   "source": [
    "num_cancha = 1\n",
    "button_cancha = driver.find_element(\"id\", f\"ctl00_ContentPlaceHolder1_dlCanchas_ctl0{num_cancha-1}_btnReservar\")\n",
    "button_cancha.click()"
   ]
  }
 ],
 "metadata": {
  "kernelspec": {
   "display_name": "Python 3",
   "language": "python",
   "name": "python3"
  },
  "language_info": {
   "codemirror_mode": {
    "name": "ipython",
    "version": 3
   },
   "file_extension": ".py",
   "mimetype": "text/x-python",
   "name": "python",
   "nbconvert_exporter": "python",
   "pygments_lexer": "ipython3",
   "version": "3.10.9 (main, Dec  7 2022, 00:00:00) [GCC 12.2.1 20221121 (Red Hat 12.2.1-4)]"
  },
  "vscode": {
   "interpreter": {
    "hash": "e7370f93d1d0cde622a1f8e1c04877d8463912d04d973331ad4851f04de6915a"
   }
  }
 },
 "nbformat": 4,
 "nbformat_minor": 5
}
